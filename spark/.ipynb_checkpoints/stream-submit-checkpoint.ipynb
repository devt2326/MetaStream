{
 "cells": [
  {
   "cell_type": "code",
   "execution_count": 22,
   "id": "46e4e6dd-f4dc-440a-9ec2-26d317cf5656",
   "metadata": {},
   "outputs": [],
   "source": [
    "from pathlib import Path\n",
    "from IPython.display import display\n",
    "import nbformat as nbf\n",
    "\n",
    "# Define the cells of the notebook\n",
    "cells = []\n"
   ]
  },
  {
   "cell_type": "code",
   "execution_count": 23,
   "id": "bf0c2687-81dc-40c3-9502-027236f79531",
   "metadata": {},
   "outputs": [],
   "source": [
    "# Cell 1: Start Spark session with Kafka packages\n",
    "cells.append(nbf.v4.new_code_cell(\"\"\"\\\n",
    "from pyspark.sql import SparkSession\n",
    "\n",
    "spark = SparkSession.builder \\\\\n",
    "    .appName(\"KafkaStreamToParquet\") \\\\\n",
    "    .config(\"spark.jars.packages\", \"org.apache.spark:spark-sql-kafka-0-10_2.12:3.5.0\") \\\\\n",
    "    .getOrCreate()\n",
    "\"\"\"))\n"
   ]
  },
  {
   "cell_type": "code",
   "execution_count": 24,
   "id": "bdbeb74e-c5fa-4e63-a37c-fd322c3624cb",
   "metadata": {},
   "outputs": [],
   "source": [
    "# Cell 2: Define schema\n",
    "cells.append(nbf.v4.new_code_cell(\"\"\"\\\n",
    "from pyspark.sql.functions import from_json, col\n",
    "from pyspark.sql.types import StructType, StringType, IntegerType\n",
    "\n",
    "schema = StructType() \\\\\n",
    "    .add(\"user_id\", IntegerType()) \\\\\n",
    "    .add(\"event_type\", StringType()) \\\\\n",
    "    .add(\"target_id\", IntegerType()) \\\\\n",
    "    .add(\"timestamp\", StringType()) \\\\\n",
    "    .add(\"device\", StringType()) \\\\\n",
    "    .add(\"location\", StringType())\n",
    "\"\"\"))"
   ]
  },
  {
   "cell_type": "code",
   "execution_count": 25,
   "id": "fd2830df-ca3c-4b22-b6df-fdf9e964e776",
   "metadata": {},
   "outputs": [],
   "source": [
    "# Cell 3: Read from Kafka\n",
    "cells.append(nbf.v4.new_code_cell(\"\"\"\\\n",
    "df_raw = spark.readStream \\\\\n",
    "    .format(\"kafka\") \\\\\n",
    "    .option(\"kafka.bootstrap.servers\", \"host.docker.internal:9092\") \\\\\n",
    "    .option(\"subscribe\", \"social_events\") \\\\\n",
    "    .option(\"startingOffsets\", \"latest\") \\\\\n",
    "    .load()\n",
    "\n",
    "df_json = df_raw.selectExpr(\"CAST(value AS STRING)\") \\\\\n",
    "    .select(from_json(col(\"value\"), schema).alias(\"data\")) \\\\\n",
    "    .select(\"data.*\")\n",
    "\"\"\"))"
   ]
  },
  {
   "cell_type": "code",
   "execution_count": 27,
   "id": "6a202082-0b5d-4f46-8dd5-7ac1a175ae94",
   "metadata": {},
   "outputs": [
    {
     "ename": "FileNotFoundError",
     "evalue": "[Errno 2] No such file or directory: '/mnt/data/stream-submit.ipynb'",
     "output_type": "error",
     "traceback": [
      "\u001b[0;31m---------------------------------------------------------------------------\u001b[0m",
      "\u001b[0;31mFileNotFoundError\u001b[0m                         Traceback (most recent call last)",
      "Cell \u001b[0;32mIn[27], line 22\u001b[0m\n\u001b[1;32m     20\u001b[0m \u001b[38;5;66;03m# Fallback: Save to mounted /mnt/data for direct download\u001b[39;00m\n\u001b[1;32m     21\u001b[0m download_path \u001b[38;5;241m=\u001b[39m \u001b[38;5;124m\"\u001b[39m\u001b[38;5;124m/mnt/data/stream-submit.ipynb\u001b[39m\u001b[38;5;124m\"\u001b[39m\n\u001b[0;32m---> 22\u001b[0m \u001b[38;5;28;01mwith\u001b[39;00m \u001b[38;5;28;43mopen\u001b[39;49m\u001b[43m(\u001b[49m\u001b[43mdownload_path\u001b[49m\u001b[43m,\u001b[49m\u001b[43m \u001b[49m\u001b[38;5;124;43m\"\u001b[39;49m\u001b[38;5;124;43mw\u001b[39;49m\u001b[38;5;124;43m\"\u001b[39;49m\u001b[43m)\u001b[49m \u001b[38;5;28;01mas\u001b[39;00m f:\n\u001b[1;32m     23\u001b[0m     nbf\u001b[38;5;241m.\u001b[39mwrite(nb, f)\n\u001b[1;32m     25\u001b[0m download_path\n",
      "File \u001b[0;32m/opt/conda/lib/python3.11/site-packages/IPython/core/interactiveshell.py:286\u001b[0m, in \u001b[0;36m_modified_open\u001b[0;34m(file, *args, **kwargs)\u001b[0m\n\u001b[1;32m    279\u001b[0m \u001b[38;5;28;01mif\u001b[39;00m file \u001b[38;5;129;01min\u001b[39;00m {\u001b[38;5;241m0\u001b[39m, \u001b[38;5;241m1\u001b[39m, \u001b[38;5;241m2\u001b[39m}:\n\u001b[1;32m    280\u001b[0m     \u001b[38;5;28;01mraise\u001b[39;00m \u001b[38;5;167;01mValueError\u001b[39;00m(\n\u001b[1;32m    281\u001b[0m         \u001b[38;5;124mf\u001b[39m\u001b[38;5;124m\"\u001b[39m\u001b[38;5;124mIPython won\u001b[39m\u001b[38;5;124m'\u001b[39m\u001b[38;5;124mt let you open fd=\u001b[39m\u001b[38;5;132;01m{\u001b[39;00mfile\u001b[38;5;132;01m}\u001b[39;00m\u001b[38;5;124m by default \u001b[39m\u001b[38;5;124m\"\u001b[39m\n\u001b[1;32m    282\u001b[0m         \u001b[38;5;124m\"\u001b[39m\u001b[38;5;124mas it is likely to crash IPython. If you know what you are doing, \u001b[39m\u001b[38;5;124m\"\u001b[39m\n\u001b[1;32m    283\u001b[0m         \u001b[38;5;124m\"\u001b[39m\u001b[38;5;124myou can use builtins\u001b[39m\u001b[38;5;124m'\u001b[39m\u001b[38;5;124m open.\u001b[39m\u001b[38;5;124m\"\u001b[39m\n\u001b[1;32m    284\u001b[0m     )\n\u001b[0;32m--> 286\u001b[0m \u001b[38;5;28;01mreturn\u001b[39;00m \u001b[43mio_open\u001b[49m\u001b[43m(\u001b[49m\u001b[43mfile\u001b[49m\u001b[43m,\u001b[49m\u001b[43m \u001b[49m\u001b[38;5;241;43m*\u001b[39;49m\u001b[43margs\u001b[49m\u001b[43m,\u001b[49m\u001b[43m \u001b[49m\u001b[38;5;241;43m*\u001b[39;49m\u001b[38;5;241;43m*\u001b[39;49m\u001b[43mkwargs\u001b[49m\u001b[43m)\u001b[49m\n",
      "\u001b[0;31mFileNotFoundError\u001b[0m: [Errno 2] No such file or directory: '/mnt/data/stream-submit.ipynb'"
     ]
    }
   ],
   "source": [
    "# Cell 4: Write to Parquet\n",
    "cells.append(nbf.v4.new_code_cell(\"\"\"\\\n",
    "query = df_json.writeStream \\\\\n",
    "    .format(\"parquet\") \\\\\n",
    "    .option(\"path\", \"/home/jovyan/work/parquet_output/\") \\\\\n",
    "    .option(\"checkpointLocation\", \"/home/jovyan/work/parquet_output/checkpoint/\") \\\\\n",
    "    .outputMode(\"append\") \\\\\n",
    "    .start()\n",
    "\n",
    "query.awaitTermination()\n",
    "\"\"\"))\n",
    "\n",
    "# Assemble the notebook\n",
    "nb = nbf.v4.new_notebook(cells=cells, metadata={\"kernelspec\": {\n",
    "    \"display_name\": \"Python 3\",\n",
    "    \"language\": \"python\",\n",
    "    \"name\": \"python3\"\n",
    "}})\n",
    "\n",
    "# Fallback: Save to mounted /mnt/data for direct download\n",
    "download_path = \"../stream-submit.ipynb\"\n",
    "with open(download_path, \"w\") as f:\n",
    "    nbf.write(nb, f)\n",
    "\n",
    "download_path\n"
   ]
  }
 ],
 "metadata": {
  "kernelspec": {
   "display_name": "Python 3 (ipykernel)",
   "language": "python",
   "name": "python3"
  },
  "language_info": {
   "codemirror_mode": {
    "name": "ipython",
    "version": 3
   },
   "file_extension": ".py",
   "mimetype": "text/x-python",
   "name": "python",
   "nbconvert_exporter": "python",
   "pygments_lexer": "ipython3",
   "version": "3.11.6"
  }
 },
 "nbformat": 4,
 "nbformat_minor": 5
}
